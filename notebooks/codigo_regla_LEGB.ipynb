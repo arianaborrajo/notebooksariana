{
 "cells": [
  {
   "cell_type": "markdown",
   "metadata": {},
   "source": [
    "Chapter 17: Scopes\n",
    "==================\n",
    "\n",
    "\n",
    "## GLOBAL SCOPE\n",
    "\n",
    "Globales son variables asignadas en el nivel superior del archivo, deben declararse sólo si se usa dentro de una función, aunque puede hacer referencia a nombres globales dentro de una función sin ser declarados."
   ]
  },
  {
   "cell_type": "markdown",
   "metadata": {},
   "source": []
  },
  {
   "cell_type": "code",
   "execution_count": 4,
   "metadata": {},
   "outputs": [
    {
     "name": "stdout",
     "output_type": "stream",
     "text": [
      "88\n"
     ]
    }
   ],
   "source": [
    "x = 88 \t\t# global\n",
    "\n",
    "def func():\n",
    "\tx = 99 \t# Se le asigna otro valor\n",
    "\n",
    "func()\n",
    "print(x) #\t Devuelve el global"
   ]
  },
  {
   "cell_type": "code",
   "execution_count": 13,
   "metadata": {},
   "outputs": [
    {
     "name": "stdout",
     "output_type": "stream",
     "text": [
      "x = 99\n"
     ]
    }
   ],
   "source": [
    "x = 88 \t\t\t\n",
    "\n",
    "def func():\n",
    "\tglobal x\n",
    "\tx = 99 \t\t\n",
    "\n",
    "func()\n",
    "print(\"x =\", x) \n"
   ]
  },
  {
   "cell_type": "markdown",
   "metadata": {},
   "source": [
    "## LEGB rule"
   ]
  },
  {
   "cell_type": "code",
   "execution_count": 1,
   "metadata": {},
   "outputs": [
    {
     "name": "stdout",
     "output_type": "stream",
     "text": [
      "x = 3, y = 1, z = 2\n"
     ]
    }
   ],
   "source": [
    "\n",
    "\n",
    "y, z = 1, 2         # global\n",
    "\n",
    "def all_global():\n",
    "\tglobal x        # definir variable global (por lo que se añade posteriormente)\n",
    "\tx = y + z       \n",
    "\n",
    "\n",
    "all_global()\n",
    "print('x = %d, y = %d, z = %d' % (x, y, z))\n"
   ]
  },
  {
   "cell_type": "markdown",
   "metadata": {},
   "source": [
    "## NESTED SCOPES\n"
   ]
  },
  {
   "cell_type": "code",
   "execution_count": 4,
   "metadata": {},
   "outputs": [
    {
     "name": "stdout",
     "output_type": "stream",
     "text": [
      "x local =  88\n",
      "x global =  99\n"
     ]
    }
   ],
   "source": [
    "\n",
    "x = 99                      \n",
    "\n",
    "def f1():\n",
    "    x = 88\n",
    "    def f2():               \n",
    "        print(\"x local = \", x)    \n",
    "    f2()                    \n",
    "    of (and is visible only to code in) the enclosing f1\n",
    "\n",
    "f1()                        \n",
    "print(\"x global = \", x)     \n",
    "\n",
    "# Da NameError: name 'f2' is not defined. No se puede invocar a f2()\n"
   ]
  },
  {
   "cell_type": "markdown",
   "metadata": {},
   "source": [
    "## Factory Functions: Closures\n",
    "\n",
    "Una factory funtion recuerda valores guardados anteriormente en la memoria."
   ]
  },
  {
   "cell_type": "code",
   "execution_count": 6,
   "metadata": {},
   "outputs": [
    {
     "name": "stdout",
     "output_type": "stream",
     "text": [
      "x = 88\n"
     ]
    }
   ],
   "source": [
    "def f1():\n",
    "\tx = 88                 \n",
    "\tdef f2():\n",
    "\t\tprint(\"x =\", x)    \n",
    "\treturn f2 \t           \n",
    "\tnombre (referencia) f2\n",
    "\n",
    "action = f1()       \n",
    "action() \t\t\t\n",
    "\n"
   ]
  },
  {
   "cell_type": "code",
   "execution_count": 8,
   "metadata": {},
   "outputs": [
    {
     "data": {
      "text/plain": [
       "16"
      ]
     },
     "execution_count": 8,
     "metadata": {},
     "output_type": "execute_result"
    }
   ],
   "source": [
    "def maker(n):\n",
    "\tdef action(x):\t\t\n",
    "\t\treturn x ** n \t\n",
    "\treturn action\n",
    "\n",
    "f = maker(2)           \n",
    "f(3)                    \n",
    "\n",
    "f(4)\t\t            "
   ]
  }
 ],
 "metadata": {
  "kernelspec": {
   "display_name": "Python 3.6.9 64-bit",
   "name": "python36964bit726dce05b3144e9e80719d87a8e14857"
  },
  "language_info": {
   "codemirror_mode": {
    "name": "ipython",
    "version": 3
   },
   "file_extension": ".py",
   "mimetype": "text/x-python",
   "name": "python",
   "nbconvert_exporter": "python",
   "pygments_lexer": "ipython3",
   "version": "3.6.9-final"
  },
  "orig_nbformat": 2
 },
 "nbformat": 4,
 "nbformat_minor": 2
}
