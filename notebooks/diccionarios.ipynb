{
 "cells": [
  {
   "cell_type": "markdown",
   "metadata": {},
   "source": [
    "DICCIONARIOS"
   ]
  },
  {
   "cell_type": "markdown",
   "metadata": {},
   "source": [
    "En Python, un diccionario es una estructura de datos que almacena pares de claves y valores. Es uno de los tipos de datos integrados más importantes y útiles, ya que permite organizar y acceder a los datos de forma eficiente. No estan ordenados, se definen usando llaves {} y el nombre y valor están separados por :."
   ]
  },
  {
   "cell_type": "markdown",
   "metadata": {},
   "source": [
    "OPERACIONES:\n",
    "\n",
    "D = {}\n",
    "\n",
    " D = {'name': 'Bob', 'age': 40}\n",
    "\n",
    " E = {'cto': {'name': 'Bob', 'age': 40}}\n",
    "\n",
    " D = dict(name='Bob', age=40)\n",
    "\n",
    " D = dict([('name', 'Bob'), ('age', 40)])\n",
    "\n",
    " D = dict(zip(keyslist, valueslist))\n",
    "\n",
    " D = dict.fromkeys(['name', 'age'])\n",
    "\n",
    " D['name']\n",
    "\n",
    " E['cto']['age']\n",
    "\n",
    " 'age' in D\n",
    "\n",
    " D.keys()\n",
    "\n",
    " D.values()\n",
    "\n",
    " D.items()\n",
    "\n",
    " D.copy()\n",
    " \n",
    " D.clear()\n",
    " \n",
    " D.update(D2)\n",
    " \n",
    " D.get(key, default?)\n",
    " \n",
    " D.pop(key, default?)\n",
    " \n",
    " D.setdefault(key, default?)\n",
    " \n",
    " D.popitem()\n",
    " \n",
    " len(D)\n",
    " \n",
    " D[key] = 42\n",
    " \n",
    " del D[key]\n",
    " \n",
    " list(D.keys())\n",
    " \n",
    " D1.keys() & D2.keys()\n",
    " \n",
    " D.viewkeys(), D.viewvalues()\n",
    " \n",
    " D = {x: x*2 for x in range(10)}"
   ]
  },
  {
   "cell_type": "code",
   "execution_count": 7,
   "metadata": {},
   "outputs": [
    {
     "data": {
      "text/plain": [
       "{'spam': 2, 'ham': 1, 'eggs': 3}"
      ]
     },
     "execution_count": 7,
     "metadata": {},
     "output_type": "execute_result"
    }
   ],
   "source": [
    "D = {'spam': 2, 'ham': 1, 'eggs': 3}\n",
    "D['spam']\n",
    "D\n"
   ]
  },
  {
   "cell_type": "markdown",
   "metadata": {},
   "source": [
    "Changing Dictionaries in Place"
   ]
  },
  {
   "cell_type": "code",
   "execution_count": 8,
   "metadata": {},
   "outputs": [],
   "source": [
    "D['ham'] = ['grill', 'bake', 'fry'] \n",
    "{'eggs': 3, 'spam': 2, 'ham': ['grill', 'bake', 'fry']}\n",
    "del D['eggs'] \n",
    "D['brunch'] = 'Bacon' \n"
   ]
  },
  {
   "cell_type": "markdown",
   "metadata": {},
   "source": [
    "More Dictionary Methods (key,value)\n",
    "Pop elimina una clave de un diccionario y devuelve el valor que tenía."
   ]
  },
  {
   "cell_type": "code",
   "execution_count": 11,
   "metadata": {},
   "outputs": [
    {
     "data": {
      "text/plain": [
       "['aa', 'cc']"
      ]
     },
     "execution_count": 11,
     "metadata": {},
     "output_type": "execute_result"
    }
   ],
   "source": [
    " L = ['aa', 'bb', 'cc', 'dd'] \n",
    "L.pop()\n",
    " L\n",
    "L.pop(1)\n",
    "L"
   ]
  },
  {
   "cell_type": "code",
   "execution_count": 9,
   "metadata": {},
   "outputs": [
    {
     "name": "stdout",
     "output_type": "stream",
     "text": [
      "None\n"
     ]
    },
    {
     "data": {
      "text/plain": [
       "88"
      ]
     },
     "execution_count": 9,
     "metadata": {},
     "output_type": "execute_result"
    }
   ],
   "source": [
    "D.get('spam')\n",
    "print(D.get('toast')) \n",
    "D.get('toast', 88)\n"
   ]
  },
  {
   "cell_type": "markdown",
   "metadata": {},
   "source": [
    "Mapping values to keys"
   ]
  },
  {
   "cell_type": "code",
   "execution_count": null,
   "metadata": {},
   "outputs": [],
   "source": [
    "K = 'Holy Grail'\n",
    "table[K] \n",
    "\n",
    "V = '1975'\n",
    "[key for (key, value) in table.items() if value == V] ['Holy Grail']\n",
    "[key for key in table.keys() if table[key] == V] ['Holy Grail']\n",
    "\n"
   ]
  },
  {
   "cell_type": "markdown",
   "metadata": {},
   "source": [
    "Other Ways to Make Dictionaries"
   ]
  },
  {
   "cell_type": "code",
   "execution_count": 14,
   "metadata": {},
   "outputs": [
    {
     "data": {
      "text/plain": [
       "{'name': 'Bob', 'age': 40}"
      ]
     },
     "execution_count": 14,
     "metadata": {},
     "output_type": "execute_result"
    }
   ],
   "source": [
    "{'name': 'Bob', 'age': 40}\n",
    "D = {}\n",
    "D['name'] = 'Bob' \n",
    "D['age'] = 40\n",
    "dict(name='Bob', age=40)\n",
    "dict([('name', 'Bob'), ('age', 40)])\n"
   ]
  },
  {
   "cell_type": "markdown",
   "metadata": {},
   "source": [
    "Dictionary views in 3.X (and 2.7 via new methods)"
   ]
  },
  {
   "cell_type": "code",
   "execution_count": 17,
   "metadata": {},
   "outputs": [
    {
     "data": {
      "text/plain": [
       "['name', 'age']"
      ]
     },
     "execution_count": 17,
     "metadata": {},
     "output_type": "execute_result"
    }
   ],
   "source": [
    "K = D.keys()\n",
    "K\n",
    "list(K)\n"
   ]
  },
  {
   "cell_type": "markdown",
   "metadata": {},
   "source": [
    "Sorting dictionary keys in 3.X\n"
   ]
  },
  {
   "cell_type": "code",
   "execution_count": 18,
   "metadata": {},
   "outputs": [
    {
     "name": "stdout",
     "output_type": "stream",
     "text": [
      "age 40\n",
      "name Bob\n"
     ]
    }
   ],
   "source": [
    "D\n",
    "Ks = D.keys()\n",
    "for k in sorted(Ks): print(k, D[k])"
   ]
  }
 ],
 "metadata": {
  "kernelspec": {
   "display_name": "Python 3",
   "language": "python",
   "name": "python3"
  },
  "language_info": {
   "codemirror_mode": {
    "name": "ipython",
    "version": 3
   },
   "file_extension": ".py",
   "mimetype": "text/x-python",
   "name": "python",
   "nbconvert_exporter": "python",
   "pygments_lexer": "ipython3",
   "version": "3.9.6"
  }
 },
 "nbformat": 4,
 "nbformat_minor": 2
}
