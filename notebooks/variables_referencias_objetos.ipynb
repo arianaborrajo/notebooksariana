{
 "cells": [
  {
   "cell_type": "markdown",
   "metadata": {},
   "source": [
    "# Chapter 6: The Dynamic Typing Interlude\n",
    "\n",
    " "
   ]
  },
  {
   "cell_type": "markdown",
   "metadata": {},
   "source": [
    "## OBJETOS INMUTABLES\n",
    "Cambio de variables"
   ]
  },
  {
   "cell_type": "code",
   "execution_count": 1,
   "metadata": {},
   "outputs": [
    {
     "name": "stdout",
     "output_type": "stream",
     "text": [
      "b es  3\n",
      "b es  3\n"
     ]
    }
   ],
   "source": [
    "\n",
    "a = 3\n",
    "b = a               \n",
    "print(\"b es \", b)\n",
    "\n",
    "a = 3\n",
    "b = a\n",
    "a = 'spam'          \n",
    "print(\"b es \", b)"
   ]
  },
  {
   "cell_type": "markdown",
   "metadata": {},
   "source": [
    "objetos integer "
   ]
  },
  {
   "cell_type": "code",
   "execution_count": 3,
   "metadata": {},
   "outputs": [
    {
     "name": "stdout",
     "output_type": "stream",
     "text": [
      "b es  3\n"
     ]
    }
   ],
   "source": [
    "a = 3\n",
    "b = a\n",
    "a = a + 2              \n",
    "print(\"b es \", b)"
   ]
  },
  {
   "cell_type": "markdown",
   "metadata": {},
   "source": [
    "## OBJETOS MUTABLES\n",
    "\n",
    "### Listas"
   ]
  },
  {
   "cell_type": "code",
   "execution_count": 4,
   "metadata": {},
   "outputs": [
    {
     "name": "stdout",
     "output_type": "stream",
     "text": [
      "L =  [24, 3, 4]\n",
      "M =  [24, 3, 4]\n"
     ]
    }
   ],
   "source": [
    "\n",
    "L = [2, 3, 4]\t    \n",
    "M = L\t\t\t    \n",
    "L[0] = 24 \t\t   \n",
    "\n",
    "print(\"L = \", L)   \n",
    "print(\"M = \", M)    "
   ]
  },
  {
   "cell_type": "markdown",
   "metadata": {},
   "source": [
    "Copiar objetos:\n"
   ]
  },
  {
   "cell_type": "code",
   "execution_count": 5,
   "metadata": {},
   "outputs": [
    {
     "name": "stdout",
     "output_type": "stream",
     "text": [
      "L =  [24, 3, 4]\n",
      "M =  [2, 3, 4]\n"
     ]
    }
   ],
   "source": [
    "\n",
    "L = [2, 3, 4]\n",
    "M = L[:]\t\t    \n",
    "L[0] = 24\n",
    "\n",
    "print(\"L = \", L)   \n",
    "\n",
    "print(\"M = \", M)    "
   ]
  },
  {
   "cell_type": "markdown",
   "metadata": {},
   "source": [
    "### Shared References and Equality\n",
    "- Comprobar que los dos valores son iguales`==`\n",
    "- Comprueba si dos objetos son el mismo en memoria `is` "
   ]
  },
  {
   "cell_type": "code",
   "execution_count": 6,
   "metadata": {},
   "outputs": [
    {
     "data": {
      "text/plain": [
       "True"
      ]
     },
     "execution_count": 6,
     "metadata": {},
     "output_type": "execute_result"
    }
   ],
   "source": [
    "\n",
    "L = [1, 2, 3]\n",
    "M = L \t\t\t   \n",
    "\n",
    "L == M \t\t\t    \n",
    "L is M \t\t\t    \n"
   ]
  },
  {
   "cell_type": "code",
   "execution_count": 8,
   "metadata": {},
   "outputs": [
    {
     "name": "stdout",
     "output_type": "stream",
     "text": [
      "L == M True\n",
      "L is M False\n"
     ]
    }
   ],
   "source": [
    "L = [1, 2, 3]\n",
    "M = [1, 2, 3]\t   #Diferentes \n",
    "\n",
    "print(\n",
    "    \"L == M\",\n",
    "    L == M \t\t\t\n",
    ")\n",
    "\n",
    "print(\n",
    "    \"L is M\", \t   \n",
    "    L is M\n",
    ")\n"
   ]
  },
  {
   "cell_type": "markdown",
   "metadata": {},
   "source": [
    "#### CACHE\n",
    "\n",
    "integers y strings se almacenan en caché y se reutilizan, nos dice que hacen referencia al mismo objeto único.\n"
   ]
  },
  {
   "cell_type": "code",
   "execution_count": 10,
   "metadata": {},
   "outputs": [
    {
     "data": {
      "text/plain": [
       "True"
      ]
     },
     "execution_count": 10,
     "metadata": {},
     "output_type": "execute_result"
    }
   ],
   "source": [
    "\n",
    "X = 42\n",
    "Y = 42\t\t    \n",
    "\n",
    "X  == Y         \n",
    "X is Y \t\t    \n"
   ]
  },
  {
   "cell_type": "markdown",
   "metadata": {},
   "source": [
    "Numero de refencias hechas:\n"
   ]
  },
  {
   "cell_type": "code",
   "execution_count": 11,
   "metadata": {},
   "outputs": [
    {
     "data": {
      "text/plain": [
       "3505"
      ]
     },
     "execution_count": 11,
     "metadata": {},
     "output_type": "execute_result"
    }
   ],
   "source": [
    "import sys\n",
    "sys.getrefcount(1)\t\t# numero de referencias"
   ]
  }
 ],
 "metadata": {
  "kernelspec": {
   "display_name": "Python 3",
   "language": "python",
   "name": "python3"
  },
  "language_info": {
   "codemirror_mode": {
    "name": "ipython",
    "version": 3
   },
   "file_extension": ".py",
   "mimetype": "text/x-python",
   "name": "python",
   "nbconvert_exporter": "python",
   "pygments_lexer": "ipython3",
   "version": "3.8.10"
  },
  "orig_nbformat": 2
 },
 "nbformat": 4,
 "nbformat_minor": 2
}
