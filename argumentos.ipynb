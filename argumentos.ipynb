{
 "cells": [
  {
   "cell_type": "markdown",
   "metadata": {},
   "source": [
    "Chapter 18: Arguments\n",
    "=====================\n",
    "\n",
    "\n",
    "\n",
    "## 1. Arguments and Shared References\n",
    "\n"
   ]
  },
  {
   "cell_type": "code",
   "execution_count": 7,
   "metadata": {},
   "outputs": [
    {
     "name": "stdout",
     "output_type": "stream",
     "text": [
      "b =  88\n"
     ]
    }
   ],
   "source": [
    "def f(a):\t    \t\n",
    "\ta = 99 \t\t\t\n",
    "\n",
    "b = 88\t\t\n",
    "f(b)\t\t\t\t\n",
    "print(\"b = \", b)\t"
   ]
  },
  {
   "cell_type": "markdown",
   "metadata": {},
   "source": [
    "### Paso de objetos mutables:\n"
   ]
  },
  {
   "cell_type": "code",
   "execution_count": 8,
   "metadata": {},
   "outputs": [
    {
     "name": "stdout",
     "output_type": "stream",
     "text": [
      "l =  ['spam', 2]\n"
     ]
    }
   ],
   "source": [
    "\n",
    "def changer(a, b):\t    \n",
    "\t\ta = 2\t\t\t\n",
    "\t\tb[0] = 'spam' \t\t\n",
    "\t\t\t\t\t\n",
    "x = 1\n",
    "l = [1, 2]\n",
    "changer(x, l)           \n",
    "print(\"l = \", l)        \n",
    "assert x == 1, \"x es 1\""
   ]
  },
  {
   "cell_type": "markdown",
   "metadata": {},
   "source": [
    "### Evitar que se cambien los elementos mutables por la rutina:\n",
    "\n",
    "#### - copia"
   ]
  },
  {
   "cell_type": "code",
   "execution_count": 9,
   "metadata": {},
   "outputs": [
    {
     "name": "stdout",
     "output_type": "stream",
     "text": [
      "l =  [1, 2]\n"
     ]
    }
   ],
   "source": [
    "\n",
    "l = [1, 2]\n",
    "changer(x, l[:]) \t# copia \n",
    "\n",
    "print(\"l = \", l) \n"
   ]
  },
  {
   "cell_type": "markdown",
   "metadata": {},
   "source": [
    "#### - Invariantes "
   ]
  },
  {
   "cell_type": "code",
   "execution_count": 10,
   "metadata": {},
   "outputs": [
    {
     "name": "stdout",
     "output_type": "stream",
     "text": [
      "l =  [1, 2]\n"
     ]
    }
   ],
   "source": [
    "l = [1, 2]\n",
    "def changer(a, b):\n",
    "    b = b[:]\t\t\n",
    "    a = 2\n",
    "    b[0] = 'spam'\t\n",
    "\n",
    "changer(x, l)\n",
    "assert l == [1, 2], \"l es una invariante\"\n",
    "print(\"l = \", l) \n"
   ]
  },
  {
   "cell_type": "markdown",
   "metadata": {},
   "source": [
    "#### - Pasar objeto mutable a inmutable:\n"
   ]
  },
  {
   "cell_type": "code",
   "execution_count": 13,
   "metadata": {},
   "outputs": [
    {
     "ename": "TypeError",
     "evalue": "'tuple' object does not support item assignment",
     "output_type": "error",
     "traceback": [
      "\u001b[0;31m---------------------------------------------------------------------------\u001b[0m",
      "\u001b[0;31mTypeError\u001b[0m                                 Traceback (most recent call last)",
      "Cell \u001b[0;32mIn[13], line 6\u001b[0m\n\u001b[1;32m      3\u001b[0m \t\ta \u001b[38;5;241m=\u001b[39m \u001b[38;5;241m2\u001b[39m\t\t\t\n\u001b[1;32m      4\u001b[0m \t\tb[\u001b[38;5;241m0\u001b[39m] \u001b[38;5;241m=\u001b[39m \u001b[38;5;124m'\u001b[39m\u001b[38;5;124mspam\u001b[39m\u001b[38;5;124m'\u001b[39m   \u001b[38;5;66;03m# TypeError: 'tuple' object does not support item assignment\u001b[39;00m\n\u001b[0;32m----> 6\u001b[0m \u001b[43mchanger\u001b[49m\u001b[43m(\u001b[49m\u001b[43mx\u001b[49m\u001b[43m,\u001b[49m\u001b[43m \u001b[49m\u001b[38;5;28;43mtuple\u001b[39;49m\u001b[43m(\u001b[49m\u001b[43ml\u001b[49m\u001b[43m)\u001b[49m\u001b[43m)\u001b[49m\t\u001b[38;5;66;03m# Pass a tuple, so changes are errors\u001b[39;00m\n\u001b[1;32m      8\u001b[0m \u001b[38;5;28mprint\u001b[39m(\u001b[38;5;124m\"\u001b[39m\u001b[38;5;124ml = \u001b[39m\u001b[38;5;124m\"\u001b[39m, l)\n\u001b[1;32m      9\u001b[0m \u001b[38;5;28;01massert\u001b[39;00m l \u001b[38;5;241m==\u001b[39m [\u001b[38;5;241m1\u001b[39m, \u001b[38;5;241m2\u001b[39m], \u001b[38;5;124m\"\u001b[39m\u001b[38;5;124ml es una invariante\u001b[39m\u001b[38;5;124m\"\u001b[39m\n",
      "Cell \u001b[0;32mIn[13], line 4\u001b[0m, in \u001b[0;36mchanger\u001b[0;34m(a, b)\u001b[0m\n\u001b[1;32m      2\u001b[0m \u001b[38;5;28;01mdef\u001b[39;00m \u001b[38;5;21mchanger\u001b[39m(a, b):\t   \n\u001b[1;32m      3\u001b[0m \t\ta \u001b[38;5;241m=\u001b[39m \u001b[38;5;241m2\u001b[39m\t\t\t\n\u001b[0;32m----> 4\u001b[0m \t\t\u001b[43mb\u001b[49m\u001b[43m[\u001b[49m\u001b[38;5;241;43m0\u001b[39;49m\u001b[43m]\u001b[49m \u001b[38;5;241m=\u001b[39m \u001b[38;5;124m'\u001b[39m\u001b[38;5;124mspam\u001b[39m\u001b[38;5;124m'\u001b[39m\n",
      "\u001b[0;31mTypeError\u001b[0m: 'tuple' object does not support item assignment"
     ]
    }
   ],
   "source": [
    "\n",
    "l = [1, 2]\n",
    "def changer(a, b):\t   \n",
    "\t\ta = 2\t\t\t\n",
    "\t\tb[0] = 'spam'   \n",
    "\n",
    "changer(x, tuple(l))\tº\n",
    "print(\"l = \", l)\n",
    "assert l == [1, 2], \"l es una invariante\"\n"
   ]
  },
  {
   "cell_type": "markdown",
   "metadata": {},
   "source": [
    "## 2 Special Argument-Matching Modes\n",
    "\n",
    "\n",
    "\n",
    "No es lo mismo `nombre=valor` en el encabezado de una función y una\n",
    "llamada de función; la primera es un argumento de palabra clave y la segunda define un valor predeterminado para un argumento opcional."
   ]
  },
  {
   "cell_type": "markdown",
   "metadata": {},
   "source": [
    "### Keyword and Default Examples\n",
    "\n",
    "#### 1. Comportamiento por defecto:"
   ]
  },
  {
   "cell_type": "code",
   "execution_count": 14,
   "metadata": {},
   "outputs": [
    {
     "name": "stdout",
     "output_type": "stream",
     "text": [
      "1 2 3\n"
     ]
    }
   ],
   "source": [
    "def f(a, b, c): \n",
    "    print(a, b, c)\n",
    "\n",
    "f(1, 2, 3)         "
   ]
  },
  {
   "cell_type": "markdown",
   "metadata": {},
   "source": [
    "#### 2. Keywords\n",
    "\n",
    "El orden de los argumentos no importa si se utilizan palabras clave "
   ]
  },
  {
   "cell_type": "code",
   "execution_count": 4,
   "metadata": {},
   "outputs": [
    {
     "name": "stdout",
     "output_type": "stream",
     "text": [
      "1 2 3\n"
     ]
    }
   ],
   "source": [
    "def f(a, b, c): \n",
    "    print(a, b, c)\n",
    "\n",
    "f(c=3, b=2, a=1)    "
   ]
  },
  {
   "cell_type": "code",
   "execution_count": 15,
   "metadata": {},
   "outputs": [
    {
     "name": "stdout",
     "output_type": "stream",
     "text": [
      "1 2 3\n"
     ]
    }
   ],
   "source": [
    "f(1, c=3, b=2)\t\t\n",
    "                    "
   ]
  },
  {
   "cell_type": "markdown",
   "metadata": {},
   "source": [
    "#### 3. Defaults\n",
    "\n",
    "Defaults nos permiten hacer que la función seleccionada sea opcional \n",
    "si no se establece un valor.\n"
   ]
  },
  {
   "cell_type": "code",
   "execution_count": 17,
   "metadata": {},
   "outputs": [
    {
     "name": "stdout",
     "output_type": "stream",
     "text": [
      "1 2 3\n",
      "1 2 3\n"
     ]
    }
   ],
   "source": [
    "\n",
    "def f(a, b=2, c=3): \t\n",
    "\tprint(a, b, c)\n",
    "\n",
    "\n",
    "f(1)       \n",
    "f(a=1)      "
   ]
  },
  {
   "cell_type": "markdown",
   "metadata": {},
   "source": [
    "Si establecemos dos valores, solo `c` obtiene su valor predeterminado\n"
   ]
  },
  {
   "cell_type": "code",
   "execution_count": 7,
   "metadata": {},
   "outputs": [
    {
     "name": "stdout",
     "output_type": "stream",
     "text": [
      "1 4 3\n",
      "1 4 5\n",
      "1 2 6\n"
     ]
    }
   ],
   "source": [
    "def f(a, b=2, c=3): \t\n",
    "\tprint(a, b, c)\n",
    "    \n",
    "f(1, 4)     \n",
    "f(1, 4, 5)\t\n",
    "\n",
    "f(1, c=6)\t"
   ]
  },
  {
   "cell_type": "markdown",
   "metadata": {},
   "source": [
    "#### 4. Combinar keywords and defaults\n",
    "\n"
   ]
  },
  {
   "cell_type": "code",
   "execution_count": 8,
   "metadata": {},
   "outputs": [
    {
     "name": "stdout",
     "output_type": "stream",
     "text": [
      "(1, 2, 0, 0)\n",
      "(1, 0, 0, 1)\n",
      "(1, 0, 0, 0)\n",
      "(3, 2, 1, 0)\n",
      "(1, 2, 3, 4)\n"
     ]
    }
   ],
   "source": [
    "\n",
    "def func(spam, eggs, toast=0, ham=0):\n",
    "\tprint((spam, eggs, toast, ham)) \t\n",
    "\n",
    "func(1, 2)\t\t\t\t\t\t\t\n",
    "func(1, ham=1, eggs=0)\t\t\t\t\n",
    "func(spam=1, eggs=0)\t\t\t\t\n",
    "func(toast=1, eggs=2, spam=3)\t\t\n",
    "func(1, 2, 3, 4) \t\t\t\t\t\n"
   ]
  },
  {
   "cell_type": "markdown",
   "metadata": {},
   "source": [
    "### 5. Python 3.X Keyword-Only Arguments\n",
    "\n",
    "`*` en la lista de argumentos para indicar que una función\n",
    "no acepta una lista de argumentos de longitud variable, se pasaran los argumentos como  keywords."
   ]
  },
  {
   "cell_type": "code",
   "execution_count": 18,
   "metadata": {},
   "outputs": [
    {
     "name": "stdout",
     "output_type": "stream",
     "text": [
      "1 (2,) 3\n",
      "1 () 3\n"
     ]
    },
    {
     "ename": "TypeError",
     "evalue": "kwonly() missing 1 required keyword-only argument: 'c'",
     "output_type": "error",
     "traceback": [
      "\u001b[0;31m---------------------------------------------------------------------------\u001b[0m",
      "\u001b[0;31mTypeError\u001b[0m                                 Traceback (most recent call last)",
      "Cell \u001b[0;32mIn[18], line 8\u001b[0m\n\u001b[1;32m      4\u001b[0m kwonly(\u001b[38;5;241m1\u001b[39m, \u001b[38;5;241m2\u001b[39m, c\u001b[38;5;241m=\u001b[39m\u001b[38;5;241m3\u001b[39m)       \u001b[38;5;66;03m# 1 (2,) 3\u001b[39;00m\n\u001b[1;32m      6\u001b[0m kwonly(a\u001b[38;5;241m=\u001b[39m\u001b[38;5;241m1\u001b[39m, c\u001b[38;5;241m=\u001b[39m\u001b[38;5;241m3\u001b[39m)        \u001b[38;5;66;03m# 1 () 3\u001b[39;00m\n\u001b[0;32m----> 8\u001b[0m \u001b[43mkwonly\u001b[49m\u001b[43m(\u001b[49m\u001b[38;5;241;43m1\u001b[39;49m\u001b[43m,\u001b[49m\u001b[43m \u001b[49m\u001b[38;5;241;43m2\u001b[39;49m\u001b[43m,\u001b[49m\u001b[43m \u001b[49m\u001b[38;5;241;43m3\u001b[39;49m\u001b[43m)\u001b[49m         \u001b[38;5;66;03m# TypeError: kwonly() missing 1 required keyword-only argument: 'c'\u001b[39;00m\n",
      "\u001b[0;31mTypeError\u001b[0m: kwonly() missing 1 required keyword-only argument: 'c'"
     ]
    }
   ],
   "source": [
    "def kwonly(a, *b, c):\n",
    "    print(a, b, c)\n",
    "\n",
    "kwonly(1, 2, c=3)       \n",
    "\n",
    "kwonly(a=1, c=3)        \n",
    "\n",
    "kwonly(1, 2, 3)         "
   ]
  },
  {
   "cell_type": "markdown",
   "metadata": {},
   "source": [
    "Usar los valores predeterminados para argumentos de solo keywords, aunque aparezcan después del `*` en el encabezado:"
   ]
  },
  {
   "cell_type": "markdown",
   "metadata": {},
   "source": []
  },
  {
   "cell_type": "code",
   "execution_count": 19,
   "metadata": {},
   "outputs": [
    {
     "name": "stdout",
     "output_type": "stream",
     "text": [
      "1 spam ham\n",
      "1 spam 3\n",
      "1 spam ham\n",
      "1 2 3\n"
     ]
    },
    {
     "ename": "TypeError",
     "evalue": "kwonly() takes 1 positional argument but 2 were given",
     "output_type": "error",
     "traceback": [
      "\u001b[0;31m---------------------------------------------------------------------------\u001b[0m",
      "\u001b[0;31mTypeError\u001b[0m                                 Traceback (most recent call last)",
      "Cell \u001b[0;32mIn[19], line 8\u001b[0m\n\u001b[1;32m      6\u001b[0m kwonly(a\u001b[38;5;241m=\u001b[39m\u001b[38;5;241m1\u001b[39m)             \u001b[38;5;66;03m# 1 spam ham\u001b[39;00m\n\u001b[1;32m      7\u001b[0m kwonly(c\u001b[38;5;241m=\u001b[39m\u001b[38;5;241m3\u001b[39m, b\u001b[38;5;241m=\u001b[39m\u001b[38;5;241m2\u001b[39m, a\u001b[38;5;241m=\u001b[39m\u001b[38;5;241m1\u001b[39m)   \u001b[38;5;66;03m# 1 2 3\u001b[39;00m\n\u001b[0;32m----> 8\u001b[0m \u001b[43mkwonly\u001b[49m\u001b[43m(\u001b[49m\u001b[38;5;241;43m1\u001b[39;49m\u001b[43m,\u001b[49m\u001b[43m \u001b[49m\u001b[38;5;241;43m2\u001b[39;49m\u001b[43m)\u001b[49m            \u001b[38;5;66;03m# TypeError: kwonly() takes 1 positional argument but 2 were given\u001b[39;00m\n",
      "\u001b[0;31mTypeError\u001b[0m: kwonly() takes 1 positional argument but 2 were given"
     ]
    }
   ],
   "source": [
    "\n",
    "def kwonly(a, *, b='spam', c='ham'):\n",
    "\tprint(a, b, c)\n",
    "\n",
    "kwonly(1)               \n",
    "kwonly(1, c=3)          \n",
    "kwonly(a=1)             \n",
    "kwonly(c=3, b=2, a=1)  \n",
    "kwonly(1, 2)            "
   ]
  },
  {
   "cell_type": "code",
   "execution_count": 20,
   "metadata": {},
   "outputs": [
    {
     "ename": "TypeError",
     "evalue": "kwonly() missing 1 required keyword-only argument: 'b'",
     "output_type": "error",
     "traceback": [
      "\u001b[0;31m---------------------------------------------------------------------------\u001b[0m",
      "\u001b[0;31mTypeError\u001b[0m                                 Traceback (most recent call last)",
      "Cell \u001b[0;32mIn[20], line 4\u001b[0m\n\u001b[1;32m      1\u001b[0m \u001b[38;5;28;01mdef\u001b[39;00m \u001b[38;5;21mkwonly\u001b[39m(a, \u001b[38;5;241m*\u001b[39m, b, c\u001b[38;5;241m=\u001b[39m\u001b[38;5;124m'\u001b[39m\u001b[38;5;124mspam\u001b[39m\u001b[38;5;124m'\u001b[39m):\n\u001b[1;32m      2\u001b[0m     \u001b[38;5;28mprint\u001b[39m(a, b, c)\n\u001b[0;32m----> 4\u001b[0m \u001b[43mkwonly\u001b[49m\u001b[43m(\u001b[49m\u001b[38;5;241;43m1\u001b[39;49m\u001b[43m,\u001b[49m\u001b[43m \u001b[49m\u001b[43mc\u001b[49m\u001b[38;5;241;43m=\u001b[39;49m\u001b[38;5;124;43m'\u001b[39;49m\u001b[38;5;124;43meggs\u001b[39;49m\u001b[38;5;124;43m'\u001b[39;49m\u001b[43m)\u001b[49m     \u001b[38;5;66;03m# TypeError: kwonly() missing 1 required keyword-only argument: 'b'\u001b[39;00m\n",
      "\u001b[0;31mTypeError\u001b[0m: kwonly() missing 1 required keyword-only argument: 'b'"
     ]
    }
   ],
   "source": [
    "\n",
    "def kwonly(a, *, b, c='spam'):\n",
    "    print(a, b, c)\n",
    "\n",
    "kwonly(1, c='eggs')     "
   ]
  },
  {
   "cell_type": "markdown",
   "metadata": {},
   "source": [
    "## Arbitrary Arguments Examples\n",
    " `*` y `** `admiten funciones que toman cualquier cantidad numero de argumentos**. \n",
    "\n",
    "\n",
    "### Headers: Collecting arguments\n",
    "asigna la variable args"
   ]
  },
  {
   "cell_type": "code",
   "execution_count": 2,
   "metadata": {},
   "outputs": [
    {
     "name": "stdout",
     "output_type": "stream",
     "text": [
      "()\n",
      "(1,)\n",
      "(1, 2, 3, 4)\n"
     ]
    }
   ],
   "source": [
    "def f(*args):\n",
    "    print(args)\n",
    "\n",
    "f()                 # ()\n",
    "f(1,)               # (1,)\n",
    "f(1, 2, 3, 4)       # (1, 2, 3, 4)  "
   ]
  },
  {
   "cell_type": "markdown",
   "metadata": {},
   "source": [
    "`**` solo funciona para argumentos de keywords organizandolos en diccionarios."
   ]
  },
  {
   "cell_type": "code",
   "execution_count": 3,
   "metadata": {},
   "outputs": [
    {
     "name": "stdout",
     "output_type": "stream",
     "text": [
      "{}\n",
      "{'a': 1, 'b': 2}\n"
     ]
    }
   ],
   "source": [
    "def f(**args):\n",
    "    print(args)\n",
    "f()                 \n",
    "f(a=1, b=2)         # {'a': 1, 'b': 2}"
   ]
  },
  {
   "cell_type": "code",
   "execution_count": 4,
   "metadata": {},
   "outputs": [
    {
     "name": "stdout",
     "output_type": "stream",
     "text": [
      "1 (2, 3) {'x': 1, 'y': 2}\n"
     ]
    }
   ],
   "source": [
    "def f(a, *pargs, **kargs):\n",
    "    print(a, pargs, kargs)\n",
    "f(1, 2, 3, x=1, y=2)        # 1 (2, 3) {'y': 2, 'x': 1}"
   ]
  },
  {
   "cell_type": "markdown",
   "metadata": {},
   "source": [
    "### Calls: Unpacking arguments\n",
    "`*` en función de llamada"
   ]
  },
  {
   "cell_type": "code",
   "execution_count": 5,
   "metadata": {},
   "outputs": [
    {
     "name": "stdout",
     "output_type": "stream",
     "text": [
      "1 2 3 4\n"
     ]
    }
   ],
   "source": [
    "def func(a, b, c, d): print(a, b, c, d)\n",
    "\n",
    "args = (1, 2)\n",
    "args += (3, 4)\n",
    "func(*args)         #es igual"
   ]
  },
  {
   "cell_type": "code",
   "execution_count": 6,
   "metadata": {},
   "outputs": [
    {
     "name": "stdout",
     "output_type": "stream",
     "text": [
      "1 2 3 4\n"
     ]
    }
   ],
   "source": [
    "args = {'a': 1, 'b': 2, 'c': 3}\n",
    "args['d'] = 4\n",
    "func(**args)   "
   ]
  },
  {
   "cell_type": "code",
   "execution_count": 7,
   "metadata": {},
   "outputs": [
    {
     "name": "stdout",
     "output_type": "stream",
     "text": [
      "1 2 3 4\n",
      "1 2 3 4\n",
      "1 2 3 4\n",
      "1 2 3 4\n",
      "1 2 3 4\n"
     ]
    }
   ],
   "source": [
    "func(*(1, 2), **{'d': 4, 'c': 3})       \n",
    "\n",
    "func(1, *(2, 3), **{'d': 4})    \n",
    "\n",
    "func(1, c=3, *(2,), **{'d': 4})         \n",
    "\n",
    "func(1, *(2, 3), d=4)                   \n",
    "\n",
    "func(1, *(2,), c=3, **{'d':4})      \n"
   ]
  }
 ],
 "metadata": {
  "kernelspec": {
   "display_name": "Python 3",
   "language": "python",
   "name": "python3"
  },
  "language_info": {
   "codemirror_mode": {
    "name": "ipython",
    "version": 3
   },
   "file_extension": ".py",
   "mimetype": "text/x-python",
   "name": "python",
   "nbconvert_exporter": "python",
   "pygments_lexer": "ipython3",
   "version": "3.12.3"
  },
  "orig_nbformat": 2
 },
 "nbformat": 4,
 "nbformat_minor": 2
}
