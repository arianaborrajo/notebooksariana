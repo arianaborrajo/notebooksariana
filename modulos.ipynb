{
 "cells": [
  {
   "cell_type": "markdown",
   "metadata": {},
   "source": [
    "Módulos Python\n",
    "==============\n",
    "\n",
    "### Creación módulos"
   ]
  },
  {
   "cell_type": "code",
   "execution_count": 1,
   "metadata": {},
   "outputs": [],
   "source": [
    "def printer(x):     \n",
    "    print(x)"
   ]
  },
  {
   "cell_type": "markdown",
   "metadata": {},
   "source": [
    "## Uso de módulos\n",
    "\n",
    "Para modulo utilizar import o from, import carga el modulo completo y from carga nombres específicos del módulo."
   ]
  },
  {
   "cell_type": "markdown",
   "metadata": {},
   "source": [
    "### sys.path\n",
    "\n",
    "Para búsqueda de módulos utilizar ruta mediante sys.path.\n",
    "\n"
   ]
  },
  {
   "cell_type": "code",
   "execution_count": 2,
   "metadata": {},
   "outputs": [],
   "source": [
    "import sys\n",
    "sys.path.append('..')"
   ]
  },
  {
   "cell_type": "markdown",
   "metadata": {},
   "source": [
    "### Sentencia import\n",
    "\n",
    "El nombre del módulo se convierte en variable. import para cargar uno o más módulos."
   ]
  },
  {
   "cell_type": "code",
   "execution_count": 3,
   "metadata": {},
   "outputs": [
    {
     "name": "stdout",
     "output_type": "stream",
     "text": [
      "Hello world!\n"
     ]
    }
   ],
   "source": [
    "import src.modulo as modulo                      \n",
    "modulo.printer(\"Hello world!\")                  "
   ]
  },
  {
   "cell_type": "markdown",
   "metadata": {},
   "source": [
    "### Sentencia from\n",
    "\n",
    "`from` copia nombres de un fichero."
   ]
  },
  {
   "cell_type": "code",
   "execution_count": 4,
   "metadata": {},
   "outputs": [
    {
     "name": "stdout",
     "output_type": "stream",
     "text": [
      "Hello world!\n"
     ]
    }
   ],
   "source": [
    "from src.modulo import printer      \n",
    "printer('Hello world!')             "
   ]
  },
  {
   "cell_type": "markdown",
   "metadata": {},
   "source": [
    "### Sentencia from *\n",
    "\n",
    "Con * se consigue copias de todos los nombres del ámbito global del módulo."
   ]
  },
  {
   "cell_type": "code",
   "execution_count": 5,
   "metadata": {},
   "outputs": [
    {
     "name": "stdout",
     "output_type": "stream",
     "text": [
      "Hello world!\n"
     ]
    }
   ],
   "source": [
    "from src.modulo import *      \n",
    "printer('Hello world!')"
   ]
  },
  {
   "cell_type": "markdown",
   "metadata": {},
   "source": [
    "### Sólo se importa una vez\n",
    "\n",
    "Solo se ejecuta una operación por fichero. \n",
    "\n",
    "Las importaciones restantes referencian un objeto ya cargado."
   ]
  },
  {
   "cell_type": "markdown",
   "metadata": {},
   "source": [
    "```python\n",
    "# modulo_simple\n",
    "print(\"modulo simple\")\n",
    "spam = 1\n",
    "```"
   ]
  },
  {
   "cell_type": "code",
   "execution_count": 6,
   "metadata": {},
   "outputs": [
    {
     "name": "stdout",
     "output_type": "stream",
     "text": [
      "modulo simple\n"
     ]
    }
   ],
   "source": [
    "import src.modulo_simple as simple   "
   ]
  },
  {
   "cell_type": "markdown",
   "metadata": {},
   "source": [
    "### import y from son asignaciones\n",
    "\n",
    "Como def, import y from son sentencias ejecutables.\n",
    "\n",
    "- Pueden usarse en sentencias  if y try. \n",
    "\n",
    "### Cambiando mutables en modulos"
   ]
  },
  {
   "cell_type": "code",
   "execution_count": 10,
   "metadata": {},
   "outputs": [],
   "source": [
    "x = 1\n",
    "y = [1, 2]"
   ]
  },
  {
   "cell_type": "code",
   "execution_count": 11,
   "metadata": {},
   "outputs": [
    {
     "data": {
      "text/plain": [
       "(42, [42, 2])"
      ]
     },
     "execution_count": 11,
     "metadata": {},
     "output_type": "execute_result"
    }
   ],
   "source": [
    "from src.modulo_small import x, y      \n",
    "x = 42                                 \n",
    "y[0] = 42                              \n",
    "x, y"
   ]
  },
  {
   "cell_type": "markdown",
   "metadata": {},
   "source": [
    "Y es un objeto compartido mutable, x no:"
   ]
  },
  {
   "cell_type": "code",
   "execution_count": 12,
   "metadata": {},
   "outputs": [
    {
     "data": {
      "text/plain": [
       "(1, [42, 2])"
      ]
     },
     "execution_count": 12,
     "metadata": {},
     "output_type": "execute_result"
    }
   ],
   "source": [
    "import src.modulo_small as small    \n",
    "small.x                             \n",
    "\n",
    "small.x, small.y                    \n"
   ]
  },
  {
   "cell_type": "markdown",
   "metadata": {},
   "source": [
    "#### Cambios de nombres entre ficheros"
   ]
  },
  {
   "cell_type": "code",
   "execution_count": 13,
   "metadata": {},
   "outputs": [
    {
     "data": {
      "text/plain": [
       "(42, 1)"
      ]
     },
     "execution_count": 13,
     "metadata": {},
     "output_type": "execute_result"
    }
   ],
   "source": [
    "from src.modulo_small import x, y      \n",
    "x = 42                                  \n",
    "import src.modulo_small as small        \n",
    "x, small.x                          "
   ]
  },
  {
   "cell_type": "code",
   "execution_count": 14,
   "metadata": {},
   "outputs": [
    {
     "data": {
      "text/plain": [
       "<module 'src.modulo_small' from '/home/davidg/Escritorio/codigo/python-fundamentals-nb/notebooks/../src/modulo_small.py'>"
      ]
     },
     "execution_count": 14,
     "metadata": {},
     "output_type": "execute_result"
    }
   ],
   "source": [
    "importlib.reload(small)"
   ]
  },
  {
   "cell_type": "markdown",
   "metadata": {},
   "source": [
    "### When import is required\n",
    "\n",
    "The only time you really must use ``import`` instead of ``from`` is when you must use the same name defined in two different modules.\n",
    "\n",
    "```py\n",
    "\n",
    "def func():\n",
    "...do something...\n",
    "\n",
    "\n",
    "def func():\n",
    "...do something else...\n",
    "```\n",
    "\n",
    "```py\n",
    "\n",
    "from M import func  \n",
    "from N import func  \n",
    "```\n",
    "\n",
    "```py\n",
    "import M, N        \n",
    "M.func()           \n",
    "N.func()                      \n",
    "```"
   ]
  },
  {
   "cell_type": "markdown",
   "metadata": {},
   "source": [
    "### Namespace Dictionaries: __dict__"
   ]
  },
  {
   "cell_type": "code",
   "execution_count": 16,
   "metadata": {},
   "outputs": [
    {
     "data": {
      "text/plain": [
       "['__name__',\n",
       " '__doc__',\n",
       " '__package__',\n",
       " '__loader__',\n",
       " '__spec__',\n",
       " '__file__',\n",
       " '__cached__',\n",
       " '__builtins__',\n",
       " 'x',\n",
       " 'y']"
      ]
     },
     "execution_count": 16,
     "metadata": {},
     "output_type": "execute_result"
    }
   ],
   "source": [
    "list(small.__dict__.keys())"
   ]
  },
  {
   "cell_type": "code",
   "execution_count": 17,
   "metadata": {},
   "outputs": [
    {
     "data": {
      "text/plain": [
       "['x', 'y']"
      ]
     },
     "execution_count": 17,
     "metadata": {},
     "output_type": "execute_result"
    }
   ],
   "source": [
    "list(name for name in small.__dict__.keys() if not name.startswith('__'))"
   ]
  },
  {
   "cell_type": "markdown",
   "metadata": {},
   "source": [
    "## Mixed Usage Modes: __name__ and __main__\n",
    "\n",
    "__name__ en un módulo es un atributo incorporado \n",
    "\n",
    "Cuando el archivo se ejecuta directamente como el programa principal, el valor de __name__ será __main__.\n",
    "Pero si el archivo se importa como un módulo, __name__ tomará el nombre del módulo.\n",
    "\n",
    "En conclusion, sire para comprobar si el archivo es importado o no.\n",
    "\n",
    "```py\n",
    "def tester():\n",
    "    print(\"It's Christmas in Heaven...\")    \n",
    "if __name__ == '__main__':                  \n",
    "    tester()                                \n"
   ]
  }
 ],
 "metadata": {
  "kernelspec": {
   "display_name": "Python 3",
   "language": "python",
   "name": "python3"
  },
  "language_info": {
   "codemirror_mode": {
    "name": "ipython",
    "version": 3
   },
   "file_extension": ".py",
   "mimetype": "text/x-python",
   "name": "python",
   "nbconvert_exporter": "python",
   "pygments_lexer": "ipython3",
   "version": "3.12.3"
  }
 },
 "nbformat": 4,
 "nbformat_minor": 2
}
